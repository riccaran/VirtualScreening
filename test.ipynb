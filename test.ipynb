{
 "cells": [
  {
   "cell_type": "code",
   "execution_count": 3,
   "metadata": {},
   "outputs": [
    {
     "name": "stderr",
     "output_type": "stream",
     "text": [
      "c:\\Users\\Riccardo\\anaconda3\\envs\\drug-discovery\\lib\\openbabel\\__init__.py:14: UserWarning: \"import openbabel\" is deprecated, instead use \"from openbabel import openbabel\"\n",
      "  warnings.warn('\"import openbabel\" is deprecated, instead use \"from openbabel import openbabel\"')\n"
     ]
    },
    {
     "data": {
      "text/plain": [
       "True"
      ]
     },
     "execution_count": 3,
     "metadata": {},
     "output_type": "execute_result"
    }
   ],
   "source": [
    "import openbabel\n",
    "\n",
    "obConversion = openbabel.OBConversion()\n",
    "obConversion.SetInAndOutFormats(\"mol2\", \"mol2\")\n",
    "\n",
    "mol = openbabel.OBMol()\n",
    "obConversion.ReadFile(mol, \"str.mol2\")\n",
    "\n",
    "# Minimizzazione con MMFF94\n",
    "forcefield = openbabel.OBForceField.FindForceField(\"MMFF94\")\n",
    "forcefield.Setup(mol)\n",
    "forcefield.SteepestDescent(500)  # Iterazioni\n",
    "forcefield.GetCoordinates(mol)\n",
    "\n",
    "# Salva direttamente in formato MOL2\n",
    "obConversion.WriteFile(mol, \"optimized_openbabel.mol2\")"
   ]
  }
 ],
 "metadata": {
  "kernelspec": {
   "display_name": "drug-discovery",
   "language": "python",
   "name": "python3"
  },
  "language_info": {
   "codemirror_mode": {
    "name": "ipython",
    "version": 3
   },
   "file_extension": ".py",
   "mimetype": "text/x-python",
   "name": "python",
   "nbconvert_exporter": "python",
   "pygments_lexer": "ipython3",
   "version": "3.9.15"
  }
 },
 "nbformat": 4,
 "nbformat_minor": 2
}
